{
 "cells": [
  {
   "cell_type": "markdown",
   "id": "979ab748-8fa5-44a7-a3af-754da82ff38c",
   "metadata": {},
   "source": [
    "# Construct an integrator\n",
    "\n",
    "In this example, we showcase how to construct a `pyshqg.core.integration.RungeKuttaModelIntegrator` instance."
   ]
  },
  {
   "cell_type": "code",
   "execution_count": 1,
   "id": "802d9209-7981-40f7-9411-a2ebb361c6dd",
   "metadata": {},
   "outputs": [],
   "source": [
    "from pyshqg.backend.numpy_backend import NumpyBackend as Backend\n",
    "from pyshqg.preprocessing.reference_data import load_test_data\n",
    "from pyshqg.core.integration import RungeKuttaModelIntegrator\n",
    "from pyshqg.core.constructors import construct_model, construct_integrator"
   ]
  },
  {
   "attachments": {},
   "cell_type": "markdown",
   "id": "8f2724f9-c96c-42a8-8614-36496c5a0cd4",
   "metadata": {},
   "source": [
    "## Construct the model\n",
    "\n",
    "The first step is to construct the model. In the present example, we use the\n",
    "test model at spectral resolution T21 and grid resolution T31, implemented\n",
    "with the `numpy`-based backend.\n",
    "\n",
    "See the notebook 'Construct a model' for more details about how to construct\n",
    "the model.c"
   ]
  },
  {
   "cell_type": "code",
   "execution_count": 2,
   "id": "18f03ec7-bc8a-400f-8bb9-5e06dfcc1ea6",
   "metadata": {},
   "outputs": [],
   "source": [
    "ds_test = load_test_data(\n",
    "    internal_truncature=21,\n",
    "    grid_truncature=31,\n",
    ")\n",
    "\n",
    "backend = Backend('float64')\n",
    "model = construct_model(backend, ds_test.config)"
   ]
  },
  {
   "cell_type": "markdown",
   "id": "51213bd1-6ffd-4ba0-9562-822af22ac5d2",
   "metadata": {},
   "source": [
    "## Manual construction\n",
    "\n",
    "To construct the integrator, we need:\n",
    "\n",
    "- `model`: the model to integrate;\n",
    "- `dt`: the integration time step;\n",
    "- `method`: the name of the integration method.\n",
    "\n",
    "Currently, four integration methods are implemented:\n",
    "\n",
    "1. `method='ee'`: explicit Euler;\n",
    "2. `method='abm'`: second-order Adams-Bashforth;\n",
    "3. `method='rk2'`: second-order Runge--Kutta;\n",
    "4. `method='rk4'`: fourth-order Runge--Kutta."
   ]
  },
  {
   "cell_type": "code",
   "execution_count": 3,
   "id": "222c6e48-2f6a-4031-b374-5c962d9cf7c0",
   "metadata": {},
   "outputs": [],
   "source": [
    "integrator = RungeKuttaModelIntegrator(\n",
    "    model=model,\n",
    "    dt=3600,\n",
    "    method='rk4',\n",
    ")"
   ]
  },
  {
   "cell_type": "markdown",
   "id": "2bce599f-e186-4f5a-8975-8054d7ed3c4b",
   "metadata": {},
   "source": [
    "## Construction using a configuration dictionary\n",
    "\n",
    "Following what has been done for the model, it is possible to use\n",
    "the `pyshqg.core.constructors.construct_integrator()` function to\n",
    "construct the integrator using a configuration object stored as a dictionary.\n",
    "\n",
    "For example, the test data contains a dictionary that will produce the integrators used in the\n",
    "unit tests."
   ]
  },
  {
   "cell_type": "code",
   "execution_count": 4,
   "id": "d7ccb2e2-5423-4551-a210-6cf071977b37",
   "metadata": {},
   "outputs": [],
   "source": [
    "integrator = construct_integrator(ds_test.config['rk4_integration'], model)"
   ]
  }
 ],
 "metadata": {
  "kernelspec": {
   "display_name": "Python 3 (ipykernel)",
   "language": "python",
   "name": "python3"
  },
  "language_info": {
   "codemirror_mode": {
    "name": "ipython",
    "version": 3
   },
   "file_extension": ".py",
   "mimetype": "text/x-python",
   "name": "python",
   "nbconvert_exporter": "python",
   "pygments_lexer": "ipython3",
   "version": "3.10.13"
  }
 },
 "nbformat": 4,
 "nbformat_minor": 5
}
