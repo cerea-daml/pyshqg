{
 "cells": [
  {
   "cell_type": "markdown",
   "id": "b3f82c21-0769-4c14-a092-8237ccea8202",
   "metadata": {},
   "source": [
    "# Construct a model\n",
    "\n",
    "In this example, we showcase how to construct a `pyshqg.core.model.QGModel` instance."
   ]
  },
  {
   "cell_type": "code",
   "execution_count": 1,
   "id": "f76fbe27-069b-4f21-9d87-dfb349076896",
   "metadata": {},
   "outputs": [],
   "source": [
    "import yaml\n",
    "\n",
    "from pyshqg.backend.numpy_backend import NumpyBackend as Backend\n",
    "from pyshqg.preprocessing.reference_data import load_reference_data, interpolate_data\n",
    "from pyshqg.preprocessing.reference_data import load_test_data\n",
    "from pyshqg.preprocessing.vertical_parametrisation import VerticalParametrisation\n",
    "from pyshqg.preprocessing.orography import Orography\n",
    "from pyshqg.core.spectral_transformations import SpectralTransformations\n",
    "from pyshqg.core.poisson import QGPoissonSolver\n",
    "from pyshqg.core.dissipation import QGEkmanDissipation, QGSelectiveDissipation\n",
    "from pyshqg.core.dissipation import QGThermalDissipation, QGDissipation\n",
    "from pyshqg.core.source import QGForcing\n",
    "from pyshqg.core.model import QGModel\n",
    "from pyshqg.core.constructors import construct_model"
   ]
  },
  {
   "cell_type": "markdown",
   "id": "dc9fa9b4-a5f6-4309-9e75-2572a5eeb50e",
   "metadata": {},
   "source": [
    "## Construct the backend\n",
    "\n",
    "In all cases, a backend is required to create a `pyshqg.core.model.QGModel` instance.\n",
    "\n",
    "For the present example, let us use the standard `numpy`-based backend\n",
    "with double precision, i.e. with `floatx = 'float64'`."
   ]
  },
  {
   "cell_type": "code",
   "execution_count": 2,
   "id": "221b373f-cb0c-4f26-abea-2791046834d0",
   "metadata": {},
   "outputs": [],
   "source": [
    "backend = Backend('float64')"
   ]
  },
  {
   "cell_type": "markdown",
   "id": "99eccb35-1b98-4b79-b17e-94818d2c7394",
   "metadata": {},
   "source": [
    "## Step-by-step manual construction\n",
    "\n",
    "Beyond the backend, a `pyshqg.core.model.QGModel` instance is constructed using six objects:\n",
    "\n",
    "1. the spectral transformations;\n",
    "2. the vertical parametrisation;\n",
    "3. the orography;\n",
    "4. the poisson solver;\n",
    "5. the dissipation processes;\n",
    "6. the forcing processes.\n",
    "\n",
    "Note that, since these objects are inter-connected, they should be created\n",
    "in that specific order."
   ]
  },
  {
   "cell_type": "markdown",
   "id": "a2292ee1-13b5-473d-b504-e39908f3ee9a",
   "metadata": {},
   "source": [
    "### Spectral transformations\n",
    "\n",
    "The spectral transformations object is a `pyshqg.core.spectral_transformations.SpectralTransformations`\n",
    "instance supposed to handle all spectral transformations. It is constructed using\n",
    "\n",
    "- `backend`: the backend;\n",
    "- `T`: the internal spectral truncature;\n",
    "- `T_grid`: the grid spectral truncature;\n",
    "- `planet_radius`: the planetary radius;\n",
    "- `planet_omega`: the planetary rotation speed.\n",
    "\n",
    "Note that the size of the spectral and grid spaces are directly determined from `T` and `T_grid`:\n",
    "the size of the spectral space is `(2, T+1, T+1)` and the size of the\n",
    "grid space is `(Nlat, Nlon)` where `Nlat = T_grid+1` and `Nlon = 2*N_lat`.\n",
    "\n",
    "For the present example, let us use `T = 21`, `T_grid = 31`, `planet_radius = 6371000` (which is\n",
    "approximately the Earth radius in meter), and `planet_omega = 7.292e-05` (which is approximately\n",
    "the Earth rotation speed in radian per second). Note in particular that the size of the\n",
    "spectral space is `(2, 22, 22)` and the size of the grid space is `(32, 64)`."
   ]
  },
  {
   "cell_type": "code",
   "execution_count": 3,
   "id": "17f5858b-d499-41e4-8d10-3b7e26d111f3",
   "metadata": {},
   "outputs": [],
   "source": [
    "spectral_transformations = SpectralTransformations(\n",
    "    backend=backend,\n",
    "    T=21,\n",
    "    T_grid=31,\n",
    "    planet_radius=6371000,\n",
    "    planet_omega=7.292e-05,\n",
    ")"
   ]
  },
  {
   "cell_type": "markdown",
   "id": "42fb0d9b-e793-4890-a535-20998985b257",
   "metadata": {},
   "source": [
    "### Vertical parametrisation\n",
    "\n",
    "The vertical parametrisation object is a `pyshqg.preprocessing.vertical_parametrisation.VerticalParametrisation`\n",
    "instance supposed to handle the vertical parametrisation of the model. It is constructed using\n",
    "\n",
    "- `rossby_radius_list`: the list of Rossby radius for each level interface.\n",
    "\n",
    "Note that the number of vertical levels in the model is directly determined from\n",
    "the length of the list: `Nz = len(rossby_radius_list)+1`. Furthermore, the\n",
    "model implicitly assumes that the first model level is the highest level.\n",
    "Therefore, the first number in this list is the Rossby radius corresponding\n",
    "to the interface between the first two model levels.\n",
    "\n",
    "For the present example, let us use three vertical levels, with Rossby radii\n",
    "`700000` and `450000` (in meter) for the interface between model levels."
   ]
  },
  {
   "cell_type": "code",
   "execution_count": 4,
   "id": "b4aad81c-231f-4e05-96ff-f4bce94559ef",
   "metadata": {},
   "outputs": [],
   "source": [
    "vertical_parametrisation = VerticalParametrisation(\n",
    "    rossby_radius_list=[700000, 450000],\n",
    ")"
   ]
  },
  {
   "cell_type": "markdown",
   "id": "f8a18992-c6ee-485d-b7ec-7de62a00c3bb",
   "metadata": {},
   "source": [
    "### Orography\n",
    "\n",
    "The orography object is a `pyshqg.preprocessing.orography.Orography`\n",
    "instance supposed to handle the orography of the model. It is constructed using\n",
    "\n",
    "- `land_sea_mask`: the land-sea mask coefficients in grid space;\n",
    "- `orography`: the orography coefficients in grid space.\n",
    "\n",
    "These coefficients can be accessed from the reference dataset using the `pyshqg.preprocessing.reference_data.load_reference_data()`\n",
    "function. Note however that this reference dataset is available in the T63 grid, which means that\n",
    "they may need to be interpolated in the model grid, for example using the\n",
    "`pyshqg.preprocessing.reference_data.interpolate_data()` function."
   ]
  },
  {
   "cell_type": "markdown",
   "id": "4884d2b9-e195-4f23-bc9f-cb203768c087",
   "metadata": {},
   "source": [
    "Let us start by loading the reference data. For this, we use:\n",
    "\n",
    "- `grid_truncature = 63`: the grid truncature of the reference data (only `63` is available at the moment);\n",
    "- `load = True`: indicates that we want to load the data into memory;\n",
    "- `padding = False`: indicates that we do not want to apply padding in the latitude direction.\n",
    "\n",
    "Note that padding is only necessary when the reference data must be interpolated in a grid larger than T63. "
   ]
  },
  {
   "cell_type": "code",
   "execution_count": 5,
   "id": "d81ebacc-6f58-4b25-a2e1-52b8a9a2c5d6",
   "metadata": {},
   "outputs": [],
   "source": [
    "ds_reference = load_reference_data(\n",
    "    grid_truncature=63,\n",
    "    load=True,\n",
    "    padding=False,\n",
    ")"
   ]
  },
  {
   "cell_type": "markdown",
   "id": "76805000-22e5-4b7b-803a-1a1a5f20dfe2",
   "metadata": {},
   "source": [
    "We now can interpolate the reference data using\n",
    "\n",
    "- `ds = ds_reference`: the reference data to interpolate;\n",
    "- `lat = spectral_transformations.lats`: the latitude nodes;\n",
    "- `lon = spectral_transformations.lons`: the longitude nodes;\n",
    "- `methods`: the list of interpolation methods for each variable in the dataset (always `'quintic'` here).\n",
    "\n",
    "Note that we provide an interpolation for the land-sea mask and the orography field,\n",
    "but also for the forcing. Even though the forcing is not required to\n",
    "construct the orography object, it will be used later on to construct\n",
    "the forcing object."
   ]
  },
  {
   "cell_type": "code",
   "execution_count": 6,
   "id": "79aaa167-ce94-43a3-b4f8-6adc4c3ddbaf",
   "metadata": {},
   "outputs": [],
   "source": [
    "ds_interpolated = interpolate_data(\n",
    "    ds=ds_reference,\n",
    "    lat=spectral_transformations.lats,\n",
    "    lon=spectral_transformations.lons,\n",
    "    methods={'forcing': 'quintic', 'land_sea_mask': 'quintic', 'orography': 'quintic'},\n",
    ")"
   ]
  },
  {
   "cell_type": "markdown",
   "id": "c16b5670-6f81-4d75-89f5-b5de1f626825",
   "metadata": {},
   "source": [
    "We now can construct the orography object."
   ]
  },
  {
   "cell_type": "code",
   "execution_count": 7,
   "id": "c9b7cf38-6481-4e50-bb0e-af59331a2616",
   "metadata": {},
   "outputs": [],
   "source": [
    "orography = Orography(\n",
    "    land_sea_mask=ds_interpolated.land_sea_mask.to_numpy(),\n",
    "    orography=ds_interpolated.orography.to_numpy(),\n",
    ")"
   ]
  },
  {
   "cell_type": "markdown",
   "id": "a86e4789-1686-43d2-a51c-3027aa44224a",
   "metadata": {},
   "source": [
    "### Poisson solver\n",
    "\n",
    "The poisson solver object is a `pyshqg.core.poisson.QGPoissonSolver`\n",
    "instance supposed to handle the transformation between vorticity and\n",
    "stream function. It is constructed using\n",
    "\n",
    "- `backend`: the backend;\n",
    "- `spectral_transformations`: the spectral transformations object;\n",
    "- `vertical_parametrisation`: the vertical parametrisation object;\n",
    "- `orography`: the orography object;\n",
    "- `orography_scale`: the vertical length scale for the orography in the Poisson-like equation between $q$ and $\\psi$.\n",
    "\n",
    "For the present example, we use `orography_scale = 9000` (in meter)."
   ]
  },
  {
   "cell_type": "code",
   "execution_count": 8,
   "id": "5ff07c8a-eedb-4bab-b966-ec14ea4cdda8",
   "metadata": {},
   "outputs": [],
   "source": [
    "poisson_solver = QGPoissonSolver(\n",
    "    backend=backend,\n",
    "    spectral_transformations=spectral_transformations,\n",
    "    vertical_parametrisation=vertical_parametrisation,\n",
    "    orography=orography,\n",
    "    orography_scale=9000,\n",
    ")"
   ]
  },
  {
   "cell_type": "markdown",
   "id": "7e180df9-e540-407b-a3b9-063d8bf46a96",
   "metadata": {},
   "source": [
    "### Ekman dissipation\n",
    "\n",
    "The Ekman dissipation object is a `pyshqg.core.dissipation.QGEkmanDissipation`\n",
    "instance supposed to handle the Ekman dissipation processes. It is constructed using\n",
    "\n",
    "- `backend`: the backend;\n",
    "- `spectral_transformations`: the spectral transformations object;\n",
    "- `orography`: the orography object;\n",
    "- `orography_scale`: the vertical length scale for the orography in $\\mu$;\n",
    "- `tau`: the $\\tau$ parameter of the friction coefficient $\\mu$;\n",
    "- `weight_land_sea_mask`: the weight of the land-sea mask contribution in $\\mu$;\n",
    "- `weight_orography`: the weight of the orography contribution in $\\mu$.\n",
    "\n",
    "For the present example, we use `orography_scale = 1000` (in meter), `tau =  259200` (in second),\n",
    "`weight_land_sea_mask = 0.5`, and `weight_orography = 0.5`."
   ]
  },
  {
   "cell_type": "code",
   "execution_count": 9,
   "id": "b3896086-4bf5-483e-a05d-514d47c82d19",
   "metadata": {},
   "outputs": [],
   "source": [
    "ekman=QGEkmanDissipation(\n",
    "    backend=backend,\n",
    "    spectral_transformations=spectral_transformations,\n",
    "    orography=orography,\n",
    "    orography_scale=1000,\n",
    "    tau=259200,\n",
    "    weight_land_sea_mask=0.5,\n",
    "    weight_orography=0.5,\n",
    ")"
   ]
  },
  {
   "cell_type": "markdown",
   "id": "6fb0ef30-7ef5-41dd-aaf2-82a95ed8dea8",
   "metadata": {},
   "source": [
    "### Selective dissipation\n",
    "\n",
    "The selective dissipation object is a `pyshqg.core.dissipation.QGSelectiveDissipation`\n",
    "instance supposed to handle the selective dissipation processes. It is constructed using\n",
    "\n",
    "- `backend`: the backend;\n",
    "- `spectral_transformations`: the spectral transformations object;\n",
    "- `tau`: the $\\tau$ parameter of the selective dissipation.\n",
    "\n",
    "For the present example, we use `tau = 8640` (in second)."
   ]
  },
  {
   "cell_type": "code",
   "execution_count": 10,
   "id": "65051512-12a1-4e04-a02c-f469f24ca5e2",
   "metadata": {},
   "outputs": [],
   "source": [
    "selective=QGSelectiveDissipation(\n",
    "    backend=backend,\n",
    "    spectral_transformations=spectral_transformations,\n",
    "    tau=8640,\n",
    ")"
   ]
  },
  {
   "cell_type": "markdown",
   "id": "c34f52d8-7fd1-4755-b99f-b8853dd12c1c",
   "metadata": {},
   "source": [
    "### Thermal dissipation\n",
    "\n",
    "The thermal dissipation object is a `pyshqg.core.dissipation.QGThermalDissipation`\n",
    "instance supposed to handle the thermal dissipation processes. It is constructed using\n",
    "\n",
    "- `backend`: the backend;\n",
    "- `vertical_parametrisation`: the vertical parametrisation object;\n",
    "- `tau`: the $\\tau$ parameter of the thermal dissipation.\n",
    "\n",
    "For the present example, we use `tau = 2160000` (in second)."
   ]
  },
  {
   "cell_type": "code",
   "execution_count": 11,
   "id": "fba813a3-edf6-4ea7-9a14-f1ff6922fceb",
   "metadata": {},
   "outputs": [],
   "source": [
    "thermal=QGThermalDissipation(\n",
    "    backend,\n",
    "    vertical_parametrisation=vertical_parametrisation,\n",
    "    tau=2160000,\n",
    "),"
   ]
  },
  {
   "cell_type": "markdown",
   "id": "5d17add2-11c0-457d-bbea-fba60d79f103",
   "metadata": {},
   "source": [
    "### Dissipation\n",
    "\n",
    "The dissipation object is a `pyshqg.core.dissipation.QGDissipation`\n",
    "instance which is simply a convenient wrapper to hold the Ekman, selective,\n",
    "and thermal dissipation."
   ]
  },
  {
   "cell_type": "code",
   "execution_count": 12,
   "id": "f2f1bfe0-7590-4b52-93d0-35cc6e0de02f",
   "metadata": {},
   "outputs": [],
   "source": [
    "dissipation = QGDissipation(\n",
    "    ekman=ekman,\n",
    "    selective=selective,\n",
    "    thermal=thermal,\n",
    ")"
   ]
  },
  {
   "cell_type": "markdown",
   "id": "37a73d02-a740-4255-938d-da725a15c22a",
   "metadata": {},
   "source": [
    "### Forcing\n",
    "\n",
    "The forcing object is a `pyshqg.core.source.QGForcing`\n",
    "instance supposed to handle the forcing processes. It is constructed using\n",
    "\n",
    "- `backend`: the backend;\n",
    "- `forcing`: the forcing coefficients in grid space.\n",
    "\n",
    "Note that the forcing coefficients have already been computed alongside the orography."
   ]
  },
  {
   "cell_type": "code",
   "execution_count": 13,
   "id": "bbfdedf8-bff7-4325-a871-049fa8193a43",
   "metadata": {},
   "outputs": [],
   "source": [
    "forcing = QGForcing(\n",
    "    backend,\n",
    "    forcing=ds_interpolated.forcing.to_numpy(),\n",
    ")"
   ]
  },
  {
   "cell_type": "markdown",
   "id": "52c47e70-b4e3-4bbe-a598-dc73cb1e0f3e",
   "metadata": {},
   "source": [
    "### Model\n",
    "\n",
    "We now have all the pieces to construct the model.\n",
    "Note that the vertical parametrisation and orography\n",
    "objects are not required here, because they contain\n",
    "only preprocessing computations that have already been\n",
    "performed at this point."
   ]
  },
  {
   "cell_type": "code",
   "execution_count": 14,
   "id": "5fc88fbd-3a90-4579-8596-a85b0c6899c9",
   "metadata": {},
   "outputs": [],
   "source": [
    "model = QGModel(\n",
    "    backend=backend,\n",
    "    spectral_transformations=spectral_transformations,\n",
    "    poisson_solver=poisson_solver,\n",
    "    dissipation=dissipation,\n",
    "    forcing=forcing,\n",
    ")"
   ]
  },
  {
   "cell_type": "markdown",
   "id": "f55316b0-cca7-43b9-8260-0c30c7282d57",
   "metadata": {},
   "source": [
    "## Construction using a configuration dictionary\n",
    "\n",
    "Alternatively, one can use the `pyshqg.core.constructors.construct_model()` function\n",
    "to construct the model using a configuration object stored as a dictionary.\n",
    "\n",
    "For example, the test data contains a dictionary that will produce the model\n",
    "used in the unit tests. Let us see how this works.\n",
    "\n",
    "Let us start by loading the test data. For the present example, we choose\n",
    "the test data at spectral resolution T21 and grid resolution T31."
   ]
  },
  {
   "cell_type": "code",
   "execution_count": 15,
   "id": "424ace81-36e8-484b-a4d4-f731b56a9bfa",
   "metadata": {},
   "outputs": [],
   "source": [
    "ds_test = load_test_data(\n",
    "    internal_truncature=21,\n",
    "    grid_truncature=31,\n",
    ")"
   ]
  },
  {
   "cell_type": "markdown",
   "id": "002c2552-f4ad-4abd-8676-e3ff98a203e0",
   "metadata": {},
   "source": [
    "The model configuration is stored in `ds_test.config`. Note that \n",
    "this is the exact same configuration that we have used to manually\n",
    "construct the model, except for the fact that it contains additional\n",
    "sections to create the integrators."
   ]
  },
  {
   "cell_type": "code",
   "execution_count": 16,
   "id": "f83e2f42-6e33-454c-bb16-db38ead5e17b",
   "metadata": {},
   "outputs": [
    {
     "name": "stdout",
     "output_type": "stream",
     "text": [
      "abm_integration:\n",
      "  dt: 1800\n",
      "  method: abm\n",
      "data_interpolation:\n",
      "  forcing: quintic\n",
      "  land_sea_mask: quintic\n",
      "  orography: quintic\n",
      "dissipation:\n",
      "  ekman:\n",
      "    orography_scale: 1000.0\n",
      "    tau: 259200.0\n",
      "    weight_land_sea_mask: 0.5\n",
      "    weight_orography: 0.5\n",
      "  selective:\n",
      "    tau: 8640.0\n",
      "  thermal:\n",
      "    tau: 2160000.0\n",
      "ee_integration:\n",
      "  dt: 1800\n",
      "  method: ee\n",
      "poisson_solver:\n",
      "  orography_scale: 9000.0\n",
      "reference_data:\n",
      "  grid_truncature: 63\n",
      "  load: true\n",
      "  padding: true\n",
      "rk2_integration:\n",
      "  dt: 1800\n",
      "  method: rk2\n",
      "rk4_integration:\n",
      "  dt: 1800\n",
      "  method: rk4\n",
      "spectral_transformations:\n",
      "  T: 21\n",
      "  T_grid: 31\n",
      "  planet_omega: 7.292e-05\n",
      "  planet_radius: 6371000.0\n",
      "vertical_parametrisation:\n",
      "  rossby_radius_list:\n",
      "  - 700000.0\n",
      "  - 450000.0\n",
      "\n"
     ]
    }
   ],
   "source": [
    "print(yaml.dump(ds_test.config))"
   ]
  },
  {
   "cell_type": "markdown",
   "id": "c23b0542-0bed-44ba-bd7f-c01254708b40",
   "metadata": {},
   "source": [
    "With this config, we can simply construct the model as follows."
   ]
  },
  {
   "cell_type": "code",
   "execution_count": 17,
   "id": "9a0d04f3-1dc2-43a5-afd3-c52026cd9205",
   "metadata": {},
   "outputs": [],
   "source": [
    "model = construct_model(backend, ds_test.config)"
   ]
  }
 ],
 "metadata": {
  "kernelspec": {
   "display_name": "Python 3 (ipykernel)",
   "language": "python",
   "name": "python3"
  },
  "language_info": {
   "codemirror_mode": {
    "name": "ipython",
    "version": 3
   },
   "file_extension": ".py",
   "mimetype": "text/x-python",
   "name": "python",
   "nbconvert_exporter": "python",
   "pygments_lexer": "ipython3",
   "version": "3.10.13"
  }
 },
 "nbformat": 4,
 "nbformat_minor": 5
}
